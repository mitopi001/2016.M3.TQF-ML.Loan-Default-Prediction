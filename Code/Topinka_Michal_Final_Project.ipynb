{
 "cells": [
  {
   "cell_type": "markdown",
   "metadata": {
    "collapsed": true
   },
   "source": [
    "# Loan Default Prediction\n",
    "**Author**: Michal Topinka <br>\n",
    "**Data source**: <https://www.kaggle.com/c/loan-default-prediction/data>"
   ]
  },
  {
   "cell_type": "code",
   "execution_count": 49,
   "metadata": {
    "collapsed": true
   },
   "outputs": [],
   "source": [
    "import pandas as pd\n",
    "import numpy as np\n",
    "from collections import Counter\n",
    "from sklearn.model_selection import train_test_split\n",
    "from sklearn.preprocessing import StandardScaler\n",
    "from sklearn.decomposition import PCA\n",
    "from sklearn.linear_model import LogisticRegression\n",
    "from sklearn.pipeline import Pipeline\n",
    "from sklearn.model_selection import learning_curve\n",
    "import matplotlib.pyplot as plt\n",
    "from sklearn.metrics import confusion_matrix\n",
    "from sklearn.svm import SVC\n",
    "from sklearn.ensemble import RandomForestClassifier\n",
    "from sklearn.feature_selection import SelectFromModel\n",
    "from sklearn.metrics import roc_auc_score\n",
    "from sklearn.metrics import accuracy_score\n",
    "import operator\n",
    "from sklearn.model_selection import GridSearchCV"
   ]
  },
  {
   "cell_type": "markdown",
   "metadata": {},
   "source": [
    "#### Import data:"
   ]
  },
  {
   "cell_type": "code",
   "execution_count": 4,
   "metadata": {
    "collapsed": false
   },
   "outputs": [
    {
     "name": "stderr",
     "output_type": "stream",
     "text": [
      "/Users/johnmirror/anaconda/lib/python3.6/site-packages/IPython/core/interactiveshell.py:2717: DtypeWarning: Columns (135,204,274,417,462) have mixed types. Specify dtype option on import or set low_memory=False.\n",
      "  interactivity=interactivity, compiler=compiler, result=result)\n"
     ]
    }
   ],
   "source": [
    "data_train = pd.read_csv('/Users/johnmirror/TQF_Project_Data/train_v2.csv', sep=\",\", na_values='NA')"
   ]
  },
  {
   "cell_type": "markdown",
   "metadata": {},
   "source": [
    "*Note: I correct the column types below.*"
   ]
  },
  {
   "cell_type": "markdown",
   "metadata": {},
   "source": [
    "## Data Preprocessing:"
   ]
  },
  {
   "cell_type": "code",
   "execution_count": 5,
   "metadata": {
    "collapsed": false
   },
   "outputs": [
    {
     "name": "stdout",
     "output_type": "stream",
     "text": [
      "Number of lost values when converting to numeric column types:  17\n"
     ]
    }
   ],
   "source": [
    "na1 = sum(data_train.isnull().sum())\n",
    "for i in range(data_train.shape[1]):\n",
    "    if data_train.ix[:,i].dtype==\"O\":\n",
    "        data_train.ix[:, i] = pd.to_numeric(data_train.ix[:,i],errors='coerce')\n",
    "na2 = sum(data_train.isnull().sum())\n",
    "print(\"Number of lost values when converting to numeric column types: \",na2-na1)"
   ]
  },
  {
   "cell_type": "code",
   "execution_count": 7,
   "metadata": {
    "collapsed": false
   },
   "outputs": [
    {
     "data": {
      "text/html": [
       "<div>\n",
       "<table border=\"1\" class=\"dataframe\">\n",
       "  <thead>\n",
       "    <tr style=\"text-align: right;\">\n",
       "      <th></th>\n",
       "      <th>id</th>\n",
       "      <th>f1</th>\n",
       "      <th>f2</th>\n",
       "      <th>f3</th>\n",
       "      <th>f4</th>\n",
       "      <th>f5</th>\n",
       "      <th>f6</th>\n",
       "      <th>f7</th>\n",
       "      <th>f8</th>\n",
       "      <th>f9</th>\n",
       "      <th>...</th>\n",
       "      <th>f770</th>\n",
       "      <th>f771</th>\n",
       "      <th>f772</th>\n",
       "      <th>f773</th>\n",
       "      <th>f774</th>\n",
       "      <th>f775</th>\n",
       "      <th>f776</th>\n",
       "      <th>f777</th>\n",
       "      <th>f778</th>\n",
       "      <th>loss</th>\n",
       "    </tr>\n",
       "  </thead>\n",
       "  <tbody>\n",
       "    <tr>\n",
       "      <th>0</th>\n",
       "      <td>1</td>\n",
       "      <td>126</td>\n",
       "      <td>10</td>\n",
       "      <td>0.686842</td>\n",
       "      <td>1100</td>\n",
       "      <td>3</td>\n",
       "      <td>13699</td>\n",
       "      <td>7201.0</td>\n",
       "      <td>4949.0</td>\n",
       "      <td>126.75</td>\n",
       "      <td>...</td>\n",
       "      <td>5</td>\n",
       "      <td>2.14</td>\n",
       "      <td>-1.54</td>\n",
       "      <td>1.18</td>\n",
       "      <td>0.1833</td>\n",
       "      <td>0.7873</td>\n",
       "      <td>1</td>\n",
       "      <td>0</td>\n",
       "      <td>5</td>\n",
       "      <td>0</td>\n",
       "    </tr>\n",
       "    <tr>\n",
       "      <th>1</th>\n",
       "      <td>2</td>\n",
       "      <td>121</td>\n",
       "      <td>10</td>\n",
       "      <td>0.782776</td>\n",
       "      <td>1100</td>\n",
       "      <td>3</td>\n",
       "      <td>84645</td>\n",
       "      <td>240.0</td>\n",
       "      <td>1625.0</td>\n",
       "      <td>123.52</td>\n",
       "      <td>...</td>\n",
       "      <td>6</td>\n",
       "      <td>0.54</td>\n",
       "      <td>-0.24</td>\n",
       "      <td>0.13</td>\n",
       "      <td>0.1926</td>\n",
       "      <td>-0.6787</td>\n",
       "      <td>1</td>\n",
       "      <td>0</td>\n",
       "      <td>5</td>\n",
       "      <td>0</td>\n",
       "    </tr>\n",
       "    <tr>\n",
       "      <th>2</th>\n",
       "      <td>3</td>\n",
       "      <td>126</td>\n",
       "      <td>10</td>\n",
       "      <td>0.500080</td>\n",
       "      <td>1100</td>\n",
       "      <td>3</td>\n",
       "      <td>83607</td>\n",
       "      <td>1800.0</td>\n",
       "      <td>1527.0</td>\n",
       "      <td>127.76</td>\n",
       "      <td>...</td>\n",
       "      <td>13</td>\n",
       "      <td>2.89</td>\n",
       "      <td>-1.73</td>\n",
       "      <td>1.04</td>\n",
       "      <td>0.2521</td>\n",
       "      <td>0.7258</td>\n",
       "      <td>1</td>\n",
       "      <td>0</td>\n",
       "      <td>5</td>\n",
       "      <td>0</td>\n",
       "    </tr>\n",
       "    <tr>\n",
       "      <th>3</th>\n",
       "      <td>4</td>\n",
       "      <td>134</td>\n",
       "      <td>10</td>\n",
       "      <td>0.439874</td>\n",
       "      <td>1100</td>\n",
       "      <td>3</td>\n",
       "      <td>82642</td>\n",
       "      <td>7542.0</td>\n",
       "      <td>1730.0</td>\n",
       "      <td>132.94</td>\n",
       "      <td>...</td>\n",
       "      <td>4</td>\n",
       "      <td>1.29</td>\n",
       "      <td>-0.89</td>\n",
       "      <td>0.66</td>\n",
       "      <td>0.2498</td>\n",
       "      <td>0.7119</td>\n",
       "      <td>1</td>\n",
       "      <td>0</td>\n",
       "      <td>5</td>\n",
       "      <td>0</td>\n",
       "    </tr>\n",
       "    <tr>\n",
       "      <th>4</th>\n",
       "      <td>5</td>\n",
       "      <td>109</td>\n",
       "      <td>9</td>\n",
       "      <td>0.502749</td>\n",
       "      <td>2900</td>\n",
       "      <td>4</td>\n",
       "      <td>79124</td>\n",
       "      <td>89.0</td>\n",
       "      <td>491.0</td>\n",
       "      <td>122.72</td>\n",
       "      <td>...</td>\n",
       "      <td>26</td>\n",
       "      <td>6.11</td>\n",
       "      <td>-3.82</td>\n",
       "      <td>2.51</td>\n",
       "      <td>0.2282</td>\n",
       "      <td>-0.5399</td>\n",
       "      <td>0</td>\n",
       "      <td>0</td>\n",
       "      <td>5</td>\n",
       "      <td>0</td>\n",
       "    </tr>\n",
       "  </tbody>\n",
       "</table>\n",
       "<p>5 rows × 771 columns</p>\n",
       "</div>"
      ],
      "text/plain": [
       "<div>\n",
       "<table border=\"1\" class=\"dataframe\">\n",
       "  <thead>\n",
       "    <tr style=\"text-align: right;\">\n",
       "      <th></th>\n",
       "      <th>id</th>\n",
       "      <th>f1</th>\n",
       "      <th>f2</th>\n",
       "      <th>f3</th>\n",
       "      <th>f4</th>\n",
       "      <th>f5</th>\n",
       "      <th>f6</th>\n",
       "      <th>f7</th>\n",
       "      <th>f8</th>\n",
       "      <th>f9</th>\n",
       "      <th>...</th>\n",
       "      <th>f770</th>\n",
       "      <th>f771</th>\n",
       "      <th>f772</th>\n",
       "      <th>f773</th>\n",
       "      <th>f774</th>\n",
       "      <th>f775</th>\n",
       "      <th>f776</th>\n",
       "      <th>f777</th>\n",
       "      <th>f778</th>\n",
       "      <th>loss</th>\n",
       "    </tr>\n",
       "  </thead>\n",
       "  <tbody>\n",
       "    <tr>\n",
       "      <th>0</th>\n",
       "      <td>1</td>\n",
       "      <td>126</td>\n",
       "      <td>10</td>\n",
       "      <td>0.686842</td>\n",
       "      <td>1100</td>\n",
       "      <td>3</td>\n",
       "      <td>13699</td>\n",
       "      <td>7201.0</td>\n",
       "      <td>4949.0</td>\n",
       "      <td>126.75</td>\n",
       "      <td>...</td>\n",
       "      <td>5</td>\n",
       "      <td>2.14</td>\n",
       "      <td>-1.54</td>\n",
       "      <td>1.18</td>\n",
       "      <td>0.1833</td>\n",
       "      <td>0.7873</td>\n",
       "      <td>1</td>\n",
       "      <td>0</td>\n",
       "      <td>5</td>\n",
       "      <td>0</td>\n",
       "    </tr>\n",
       "    <tr>\n",
       "      <th>1</th>\n",
       "      <td>2</td>\n",
       "      <td>121</td>\n",
       "      <td>10</td>\n",
       "      <td>0.782776</td>\n",
       "      <td>1100</td>\n",
       "      <td>3</td>\n",
       "      <td>84645</td>\n",
       "      <td>240.0</td>\n",
       "      <td>1625.0</td>\n",
       "      <td>123.52</td>\n",
       "      <td>...</td>\n",
       "      <td>6</td>\n",
       "      <td>0.54</td>\n",
       "      <td>-0.24</td>\n",
       "      <td>0.13</td>\n",
       "      <td>0.1926</td>\n",
       "      <td>-0.6787</td>\n",
       "      <td>1</td>\n",
       "      <td>0</td>\n",
       "      <td>5</td>\n",
       "      <td>0</td>\n",
       "    </tr>\n",
       "    <tr>\n",
       "      <th>2</th>\n",
       "      <td>3</td>\n",
       "      <td>126</td>\n",
       "      <td>10</td>\n",
       "      <td>0.500080</td>\n",
       "      <td>1100</td>\n",
       "      <td>3</td>\n",
       "      <td>83607</td>\n",
       "      <td>1800.0</td>\n",
       "      <td>1527.0</td>\n",
       "      <td>127.76</td>\n",
       "      <td>...</td>\n",
       "      <td>13</td>\n",
       "      <td>2.89</td>\n",
       "      <td>-1.73</td>\n",
       "      <td>1.04</td>\n",
       "      <td>0.2521</td>\n",
       "      <td>0.7258</td>\n",
       "      <td>1</td>\n",
       "      <td>0</td>\n",
       "      <td>5</td>\n",
       "      <td>0</td>\n",
       "    </tr>\n",
       "    <tr>\n",
       "      <th>3</th>\n",
       "      <td>4</td>\n",
       "      <td>134</td>\n",
       "      <td>10</td>\n",
       "      <td>0.439874</td>\n",
       "      <td>1100</td>\n",
       "      <td>3</td>\n",
       "      <td>82642</td>\n",
       "      <td>7542.0</td>\n",
       "      <td>1730.0</td>\n",
       "      <td>132.94</td>\n",
       "      <td>...</td>\n",
       "      <td>4</td>\n",
       "      <td>1.29</td>\n",
       "      <td>-0.89</td>\n",
       "      <td>0.66</td>\n",
       "      <td>0.2498</td>\n",
       "      <td>0.7119</td>\n",
       "      <td>1</td>\n",
       "      <td>0</td>\n",
       "      <td>5</td>\n",
       "      <td>0</td>\n",
       "    </tr>\n",
       "    <tr>\n",
       "      <th>4</th>\n",
       "      <td>5</td>\n",
       "      <td>109</td>\n",
       "      <td>9</td>\n",
       "      <td>0.502749</td>\n",
       "      <td>2900</td>\n",
       "      <td>4</td>\n",
       "      <td>79124</td>\n",
       "      <td>89.0</td>\n",
       "      <td>491.0</td>\n",
       "      <td>122.72</td>\n",
       "      <td>...</td>\n",
       "      <td>26</td>\n",
       "      <td>6.11</td>\n",
       "      <td>-3.82</td>\n",
       "      <td>2.51</td>\n",
       "      <td>0.2282</td>\n",
       "      <td>-0.5399</td>\n",
       "      <td>0</td>\n",
       "      <td>0</td>\n",
       "      <td>5</td>\n",
       "      <td>0</td>\n",
       "    </tr>\n",
       "  </tbody>\n",
       "</table>\n",
       "<p>5 rows × 771 columns</p>\n",
       "</div>"
      ]
     },
     "execution_count": 7,
     "metadata": {},
     "output_type": "execute_result"
    }
   ],
   "source": [
    "data_train.head()"
   ]
  },
  {
   "cell_type": "code",
   "execution_count": 9,
   "metadata": {
    "collapsed": false
   },
   "outputs": [
    {
     "name": "stdout",
     "output_type": "stream",
     "text": [
      "Number of NAs in the target variable 'loss':  0\n",
      "Number of NAs in variable 'ID':  0\n",
      "Number of duplicate rows:  0\n"
     ]
    }
   ],
   "source": [
    "print(\"Number of NAs in the target variable 'loss': \", data_train['loss'].isnull().sum())\n",
    "print(\"Number of NAs in variable 'ID': \", data_train['id'].isnull().sum())\n",
    "print(\"Number of duplicate rows: \", sum(data_train.ix[:, 1:].duplicated()))"
   ]
  },
  {
   "cell_type": "markdown",
   "metadata": {},
   "source": [
    "####Target variable 'loss':"
   ]
  },
  {
   "cell_type": "code",
   "execution_count": 10,
   "metadata": {
    "collapsed": false
   },
   "outputs": [
    {
     "name": "stdout",
     "output_type": "stream",
     "text": [
      "Number of defaults: \n",
      " False    95688\n",
      "True      9783\n",
      "Name: loss, dtype: int64\n"
     ]
    }
   ],
   "source": [
    "print(\"Number of defaults:\",\"\\n\",(data_train['loss'] > 0).value_counts())"
   ]
  },
  {
   "cell_type": "code",
   "execution_count": 11,
   "metadata": {
    "collapsed": false
   },
   "outputs": [
    {
     "data": {
      "image/png": "[encoded data removed]",
      "text/plain": [
       "<matplotlib.figure.Figure at 0x114780860>"
      ]
     },
     "metadata": {},
     "output_type": "display_data"
    }
   ],
   "source": [
    "plt.hist(data_train[(data_train['loss'] > 0)]['loss'])\n",
    "plt.title(\"Loan Defaults Histogram\")\n",
    "plt.xlabel(\"Loss Percentage\")\n",
    "plt.ylabel(\"Frequency\")\n",
    "plt.show()"
   ]
  },
  {
   "cell_type": "markdown",
   "metadata": {},
   "source": [
    "#### Removal of duplicate/constant columns:"
   ]
  },
  {
   "cell_type": "markdown",
   "metadata": {},
   "source": [
    "Duplicate columns:"
   ]
  },
  {
   "cell_type": "code",
   "execution_count": 12,
   "metadata": {
    "collapsed": true
   },
   "outputs": [],
   "source": [
    "remove = []\n",
    "cols = data_train.columns\n",
    "for i in range(len(cols) - 1):\n",
    "    v = data_train[cols[i]].values\n",
    "    for j in range(i + 1, len(cols)):\n",
    "        if np.array_equal(v, data_train[cols[j]].values):\n",
    "            remove.append(cols[j])\n",
    "data_train = data_train.drop(remove, axis=1, inplace=False)"
   ]
  },
  {
   "cell_type": "markdown",
   "metadata": {},
   "source": [
    "Constant columns:"
   ]
  },
  {
   "cell_type": "code",
   "execution_count": 13,
   "metadata": {
    "collapsed": true
   },
   "outputs": [],
   "source": [
    "remove = []\n",
    "cols = data_train.columns\n",
    "for i in range(data_train.shape[1]):\n",
    "    if data_train.ix[:, i].nunique() == 1:\n",
    "        remove.append(cols[i])     \n",
    "data_train = data_train.drop(remove, axis=1, inplace=False)"
   ]
  },
  {
   "cell_type": "code",
   "execution_count": 14,
   "metadata": {
    "collapsed": true
   },
   "outputs": [
    {
     "name": "stdout",
     "output_type": "stream",
     "text": [
      "Number of removed features (columns):  38\n"
     ]
    }
   ],
   "source": [
    "print(\"Number of removed features (columns): \",771-data_train.shape[1])"
   ]
  },
  {
   "cell_type": "markdown",
   "metadata": {},
   "source": [
    "#### Missing values:"
   ]
  },
  {
   "cell_type": "code",
   "execution_count": 20,
   "metadata": {
    "collapsed": false
   },
   "outputs": [
    {
     "name": "stdout",
     "output_type": "stream",
     "text": [
      "Number of NAs in the dataset:  785971\n",
      "Proportion of NA values:  0.01\n",
      "Proportion of rows with some NA:  0.51\n",
      "Proportion of columns with some NA:  0.73\n"
     ]
    }
   ],
   "source": [
    "print(\"Number of NAs in the dataset: \", sum(data_train.isnull().sum()))\n",
    "print(\"Proportion of NA values: \",round(sum(data_train.isnull().sum()) / (data_train.shape[0] * (data_train.shape[1] - 2)),2))\n",
    "print(\"Proportion of rows with some NA: \",round((data_train.shape[0] - data_train.dropna().shape[0]) / data_train.shape[0],2))\n",
    "print(\"Proportion of columns with some NA: \", round(\n",
    "      np.count_nonzero(data_train.iloc[:, 1:-1].isnull().sum()) / data_train.iloc[:, 1:-1].shape[1],2))"
   ]
  },
  {
   "cell_type": "code",
   "execution_count": 21,
   "metadata": {
    "collapsed": true
   },
   "outputs": [],
   "source": [
    "data_train.fillna(data_train.mean(), inplace=True);"
   ]
  },
  {
   "cell_type": "markdown",
   "metadata": {},
   "source": [
    "*Note: Missing values inputed with mean values of their columns.*"
   ]
  },
  {
   "cell_type": "markdown",
   "metadata": {},
   "source": [
    "After the removal of unneccessary columns, the dataset looks like this:"
   ]
  },
  {
   "cell_type": "code",
   "execution_count": 22,
   "metadata": {
    "collapsed": false
   },
   "outputs": [
    {
     "data": {
      "text/html": [
       "<div>\n",
       "<table border=\"1\" class=\"dataframe\">\n",
       "  <thead>\n",
       "    <tr style=\"text-align: right;\">\n",
       "      <th></th>\n",
       "      <th>id</th>\n",
       "      <th>f1</th>\n",
       "      <th>f2</th>\n",
       "      <th>f3</th>\n",
       "      <th>f4</th>\n",
       "      <th>f5</th>\n",
       "      <th>f6</th>\n",
       "      <th>f7</th>\n",
       "      <th>f8</th>\n",
       "      <th>f9</th>\n",
       "      <th>...</th>\n",
       "      <th>f770</th>\n",
       "      <th>f771</th>\n",
       "      <th>f772</th>\n",
       "      <th>f773</th>\n",
       "      <th>f774</th>\n",
       "      <th>f775</th>\n",
       "      <th>f776</th>\n",
       "      <th>f777</th>\n",
       "      <th>f778</th>\n",
       "      <th>loss</th>\n",
       "    </tr>\n",
       "  </thead>\n",
       "  <tbody>\n",
       "    <tr>\n",
       "      <th>0</th>\n",
       "      <td>1</td>\n",
       "      <td>126</td>\n",
       "      <td>10</td>\n",
       "      <td>0.686842</td>\n",
       "      <td>1100</td>\n",
       "      <td>3</td>\n",
       "      <td>13699</td>\n",
       "      <td>7201.0</td>\n",
       "      <td>4949.0</td>\n",
       "      <td>126.75</td>\n",
       "      <td>...</td>\n",
       "      <td>5</td>\n",
       "      <td>2.14</td>\n",
       "      <td>-1.54</td>\n",
       "      <td>1.18</td>\n",
       "      <td>0.1833</td>\n",
       "      <td>0.7873</td>\n",
       "      <td>1</td>\n",
       "      <td>0</td>\n",
       "      <td>5</td>\n",
       "      <td>0</td>\n",
       "    </tr>\n",
       "    <tr>\n",
       "      <th>1</th>\n",
       "      <td>2</td>\n",
       "      <td>121</td>\n",
       "      <td>10</td>\n",
       "      <td>0.782776</td>\n",
       "      <td>1100</td>\n",
       "      <td>3</td>\n",
       "      <td>84645</td>\n",
       "      <td>240.0</td>\n",
       "      <td>1625.0</td>\n",
       "      <td>123.52</td>\n",
       "      <td>...</td>\n",
       "      <td>6</td>\n",
       "      <td>0.54</td>\n",
       "      <td>-0.24</td>\n",
       "      <td>0.13</td>\n",
       "      <td>0.1926</td>\n",
       "      <td>-0.6787</td>\n",
       "      <td>1</td>\n",
       "      <td>0</td>\n",
       "      <td>5</td>\n",
       "      <td>0</td>\n",
       "    </tr>\n",
       "    <tr>\n",
       "      <th>2</th>\n",
       "      <td>3</td>\n",
       "      <td>126</td>\n",
       "      <td>10</td>\n",
       "      <td>0.500080</td>\n",
       "      <td>1100</td>\n",
       "      <td>3</td>\n",
       "      <td>83607</td>\n",
       "      <td>1800.0</td>\n",
       "      <td>1527.0</td>\n",
       "      <td>127.76</td>\n",
       "      <td>...</td>\n",
       "      <td>13</td>\n",
       "      <td>2.89</td>\n",
       "      <td>-1.73</td>\n",
       "      <td>1.04</td>\n",
       "      <td>0.2521</td>\n",
       "      <td>0.7258</td>\n",
       "      <td>1</td>\n",
       "      <td>0</td>\n",
       "      <td>5</td>\n",
       "      <td>0</td>\n",
       "    </tr>\n",
       "    <tr>\n",
       "      <th>3</th>\n",
       "      <td>4</td>\n",
       "      <td>134</td>\n",
       "      <td>10</td>\n",
       "      <td>0.439874</td>\n",
       "      <td>1100</td>\n",
       "      <td>3</td>\n",
       "      <td>82642</td>\n",
       "      <td>7542.0</td>\n",
       "      <td>1730.0</td>\n",
       "      <td>132.94</td>\n",
       "      <td>...</td>\n",
       "      <td>4</td>\n",
       "      <td>1.29</td>\n",
       "      <td>-0.89</td>\n",
       "      <td>0.66</td>\n",
       "      <td>0.2498</td>\n",
       "      <td>0.7119</td>\n",
       "      <td>1</td>\n",
       "      <td>0</td>\n",
       "      <td>5</td>\n",
       "      <td>0</td>\n",
       "    </tr>\n",
       "    <tr>\n",
       "      <th>4</th>\n",
       "      <td>5</td>\n",
       "      <td>109</td>\n",
       "      <td>9</td>\n",
       "      <td>0.502749</td>\n",
       "      <td>2900</td>\n",
       "      <td>4</td>\n",
       "      <td>79124</td>\n",
       "      <td>89.0</td>\n",
       "      <td>491.0</td>\n",
       "      <td>122.72</td>\n",
       "      <td>...</td>\n",
       "      <td>26</td>\n",
       "      <td>6.11</td>\n",
       "      <td>-3.82</td>\n",
       "      <td>2.51</td>\n",
       "      <td>0.2282</td>\n",
       "      <td>-0.5399</td>\n",
       "      <td>0</td>\n",
       "      <td>0</td>\n",
       "      <td>5</td>\n",
       "      <td>0</td>\n",
       "    </tr>\n",
       "  </tbody>\n",
       "</table>\n",
       "<p>5 rows × 733 columns</p>\n",
       "</div>"
      ],
      "text/plain": [
       "<div>\n",
       "<table border=\"1\" class=\"dataframe\">\n",
       "  <thead>\n",
       "    <tr style=\"text-align: right;\">\n",
       "      <th></th>\n",
       "      <th>id</th>\n",
       "      <th>f1</th>\n",
       "      <th>f2</th>\n",
       "      <th>f3</th>\n",
       "      <th>f4</th>\n",
       "      <th>f5</th>\n",
       "      <th>f6</th>\n",
       "      <th>f7</th>\n",
       "      <th>f8</th>\n",
       "      <th>f9</th>\n",
       "      <th>...</th>\n",
       "      <th>f770</th>\n",
       "      <th>f771</th>\n",
       "      <th>f772</th>\n",
       "      <th>f773</th>\n",
       "      <th>f774</th>\n",
       "      <th>f775</th>\n",
       "      <th>f776</th>\n",
       "      <th>f777</th>\n",
       "      <th>f778</th>\n",
       "      <th>loss</th>\n",
       "    </tr>\n",
       "  </thead>\n",
       "  <tbody>\n",
       "    <tr>\n",
       "      <th>0</th>\n",
       "      <td>1</td>\n",
       "      <td>126</td>\n",
       "      <td>10</td>\n",
       "      <td>0.686842</td>\n",
       "      <td>1100</td>\n",
       "      <td>3</td>\n",
       "      <td>13699</td>\n",
       "      <td>7201.0</td>\n",
       "      <td>4949.0</td>\n",
       "      <td>126.75</td>\n",
       "      <td>...</td>\n",
       "      <td>5</td>\n",
       "      <td>2.14</td>\n",
       "      <td>-1.54</td>\n",
       "      <td>1.18</td>\n",
       "      <td>0.1833</td>\n",
       "      <td>0.7873</td>\n",
       "      <td>1</td>\n",
       "      <td>0</td>\n",
       "      <td>5</td>\n",
       "      <td>0</td>\n",
       "    </tr>\n",
       "    <tr>\n",
       "      <th>1</th>\n",
       "      <td>2</td>\n",
       "      <td>121</td>\n",
       "      <td>10</td>\n",
       "      <td>0.782776</td>\n",
       "      <td>1100</td>\n",
       "      <td>3</td>\n",
       "      <td>84645</td>\n",
       "      <td>240.0</td>\n",
       "      <td>1625.0</td>\n",
       "      <td>123.52</td>\n",
       "      <td>...</td>\n",
       "      <td>6</td>\n",
       "      <td>0.54</td>\n",
       "      <td>-0.24</td>\n",
       "      <td>0.13</td>\n",
       "      <td>0.1926</td>\n",
       "      <td>-0.6787</td>\n",
       "      <td>1</td>\n",
       "      <td>0</td>\n",
       "      <td>5</td>\n",
       "      <td>0</td>\n",
       "    </tr>\n",
       "    <tr>\n",
       "      <th>2</th>\n",
       "      <td>3</td>\n",
       "      <td>126</td>\n",
       "      <td>10</td>\n",
       "      <td>0.500080</td>\n",
       "      <td>1100</td>\n",
       "      <td>3</td>\n",
       "      <td>83607</td>\n",
       "      <td>1800.0</td>\n",
       "      <td>1527.0</td>\n",
       "      <td>127.76</td>\n",
       "      <td>...</td>\n",
       "      <td>13</td>\n",
       "      <td>2.89</td>\n",
       "      <td>-1.73</td>\n",
       "      <td>1.04</td>\n",
       "      <td>0.2521</td>\n",
       "      <td>0.7258</td>\n",
       "      <td>1</td>\n",
       "      <td>0</td>\n",
       "      <td>5</td>\n",
       "      <td>0</td>\n",
       "    </tr>\n",
       "    <tr>\n",
       "      <th>3</th>\n",
       "      <td>4</td>\n",
       "      <td>134</td>\n",
       "      <td>10</td>\n",
       "      <td>0.439874</td>\n",
       "      <td>1100</td>\n",
       "      <td>3</td>\n",
       "      <td>82642</td>\n",
       "      <td>7542.0</td>\n",
       "      <td>1730.0</td>\n",
       "      <td>132.94</td>\n",
       "      <td>...</td>\n",
       "      <td>4</td>\n",
       "      <td>1.29</td>\n",
       "      <td>-0.89</td>\n",
       "      <td>0.66</td>\n",
       "      <td>0.2498</td>\n",
       "      <td>0.7119</td>\n",
       "      <td>1</td>\n",
       "      <td>0</td>\n",
       "      <td>5</td>\n",
       "      <td>0</td>\n",
       "    </tr>\n",
       "    <tr>\n",
       "      <th>4</th>\n",
       "      <td>5</td>\n",
       "      <td>109</td>\n",
       "      <td>9</td>\n",
       "      <td>0.502749</td>\n",
       "      <td>2900</td>\n",
       "      <td>4</td>\n",
       "      <td>79124</td>\n",
       "      <td>89.0</td>\n",
       "      <td>491.0</td>\n",
       "      <td>122.72</td>\n",
       "      <td>...</td>\n",
       "      <td>26</td>\n",
       "      <td>6.11</td>\n",
       "      <td>-3.82</td>\n",
       "      <td>2.51</td>\n",
       "      <td>0.2282</td>\n",
       "      <td>-0.5399</td>\n",
       "      <td>0</td>\n",
       "      <td>0</td>\n",
       "      <td>5</td>\n",
       "      <td>0</td>\n",
       "    </tr>\n",
       "  </tbody>\n",
       "</table>\n",
       "<p>5 rows × 733 columns</p>\n",
       "</div>"
      ]
     },
     "execution_count": 22,
     "metadata": {},
     "output_type": "execute_result"
    }
   ],
   "source": [
    "data_train.head()"
   ]
  },
  {
   "cell_type": "markdown",
   "metadata": {},
   "source": [
    "### Variables:"
   ]
  },
  {
   "cell_type": "code",
   "execution_count": 24,
   "metadata": {
    "collapsed": true
   },
   "outputs": [],
   "source": [
    "y = (data_train['loss'].values > 0)\n",
    "X = data_train.iloc[:, 1:-1]"
   ]
  },
  {
   "cell_type": "markdown",
   "metadata": {},
   "source": [
    "Train/Test split:"
   ]
  },
  {
   "cell_type": "code",
   "execution_count": 25,
   "metadata": {
    "collapsed": true
   },
   "outputs": [],
   "source": [
    "X_train, X_test, y_train, y_test = train_test_split(X, y, test_size=0.3, random_state=0)"
   ]
  },
  {
   "cell_type": "markdown",
   "metadata": {},
   "source": [
    "## Logistic regression"
   ]
  },
  {
   "cell_type": "markdown",
   "metadata": {},
   "source": [
    "Firstly, I will run a logistic regression with default parameters just to see what is the initial accuracy. In addition to accuracy, I also use ROC AUC as a performance metric."
   ]
  },
  {
   "cell_type": "code",
   "execution_count": 26,
   "metadata": {
    "collapsed": false
   },
   "outputs": [
    {
     "name": "stdout",
     "output_type": "stream",
     "text": [
      "Test Accuracy: 0.906\n",
      "ROC AUC: 0.716\n"
     ]
    }
   ],
   "source": [
    "pipe_lr = Pipeline([('scl', StandardScaler()), ('clf', LogisticRegression(random_state=1))])\n",
    "pipe_lr.fit(X_train, y_train)\n",
    "print('Test Accuracy: %.3f' % pipe_lr.score(X_test, y_test))\n",
    "print('ROC AUC: %.3f' % roc_auc_score(y_test,pipe_lr.predict_proba(X_test)[:,1]))"
   ]
  },
  {
   "cell_type": "markdown",
   "metadata": {},
   "source": [
    "#### Confusion matrix"
   ]
  },
  {
   "cell_type": "code",
   "execution_count": 41,
   "metadata": {
    "collapsed": false
   },
   "outputs": [
    {
     "data": {
      "image/png": "[encoded data removed]",
      "text/plain": [
       "<matplotlib.figure.Figure at 0x1183fa6a0>"
      ]
     },
     "metadata": {},
     "output_type": "display_data"
    }
   ],
   "source": [
    "y_pred = pipe_lr.predict(X_test)\n",
    "confmat = confusion_matrix(y_true=y_test, y_pred=y_pred)\n",
    "fig, ax = plt.subplots(figsize=(2.5, 2.5))\n",
    "ax.matshow(confmat, cmap=plt.cm.BuPu, alpha=0.3)\n",
    "for i in range(confmat.shape[0]):\n",
    "    for j in range(confmat.shape[1]):\n",
    "        ax.text(x=j, y=i,\n",
    "                s=confmat[i, j],\n",
    "                va='center', ha='center')\n",
    "plt.xlabel('predicted label')\n",
    "plt.ylabel('true label')\n",
    "plt.show()"
   ]
  },
  {
   "cell_type": "markdown",
   "metadata": {},
   "source": [
    "Even though the accuracy is already over 90 percent, the algorithm does predict only a few true positives. Therefore, I want to tune the logistic regression and run a grid search to estimate the value of paramater 'C' (regularization strenght) and 'penalty' (norm used in the penalization). Due to computational reasons (running these algorithms on a laptop takes eternity) I will firstly try to reduce the number of features."
   ]
  },
  {
   "cell_type": "markdown",
   "metadata": {},
   "source": [
    "## Reducing the number of features"
   ]
  },
  {
   "cell_type": "markdown",
   "metadata": {},
   "source": [
    "### 1) Feature extraction"
   ]
  },
  {
   "cell_type": "markdown",
   "metadata": {},
   "source": [
    "#### PCA"
   ]
  },
  {
   "cell_type": "markdown",
   "metadata": {},
   "source": [
    "Let's first compute PCA munually and take a look on total and explained variance."
   ]
  },
  {
   "cell_type": "code",
   "execution_count": 40,
   "metadata": {
    "collapsed": false
   },
   "outputs": [
    {
     "name": "stderr",
     "output_type": "stream",
     "text": [
      "/Users/johnmirror/anaconda/lib/python3.6/site-packages/matplotlib/patches.py:680: ComplexWarning: Casting complex values to real discards the imaginary part\n",
      "  self._height = float(height)\n",
      "/Users/johnmirror/anaconda/lib/python3.6/site-packages/matplotlib/patches.py:678: ComplexWarning: Casting complex values to real discards the imaginary part\n",
      "  self._y = float(xy[1])\n",
      "/Users/johnmirror/anaconda/lib/python3.6/site-packages/numpy/core/numeric.py:482: ComplexWarning: Casting complex values to real discards the imaginary part\n",
      "  return array(a, dtype, copy=False, order=order)\n"
     ]
    },
    {
     "data": {
      "image/png": "[encoded data removed]",
      "text/plain": [
       "<matplotlib.figure.Figure at 0x118c84dd8>"
      ]
     },
     "metadata": {},
     "output_type": "display_data"
    }
   ],
   "source": [
    "sc = StandardScaler()\n",
    "X_train_std = sc.fit_transform(X_train)\n",
    "X_test_std = sc.fit_transform(X_test)\n",
    "cov_mat = np.cov(X_train_std.T)\n",
    "eigen_vals, eigen_vecs = np.linalg.eig(cov_mat)\n",
    "tot = sum(eigen_vals)\n",
    "var_exp = [(i / tot) for i in sorted(eigen_vals, reverse=True)]\n",
    "cum_var_exp = np.cumsum(var_exp)\n",
    "plt.bar(range(1,732), var_exp, alpha=0.5, align='center', label='individual explained variance')\n",
    "plt.step(range(1,732), cum_var_exp, where='mid', label='cumulative explained variance')\n",
    "plt.ylabel('Explained variance ratio')\n",
    "plt.xlabel('Principal components')\n",
    "plt.legend(loc='best')\n",
    "plt.xlim(0,200)\n",
    "plt.show()"
   ]
  },
  {
   "cell_type": "markdown",
   "metadata": {},
   "source": [
    "Looking closely one can see that 40 principal components explain about 80% of the variance, 90 PC explain about 90%, 135 PC explain 95% and 235 PC explain 99%."
   ]
  },
  {
   "cell_type": "markdown",
   "metadata": {},
   "source": [
    "For curiosity, I will run the same logistic regression with 40 PCAs."
   ]
  },
  {
   "cell_type": "code",
   "execution_count": 42,
   "metadata": {
    "collapsed": false
   },
   "outputs": [
    {
     "name": "stdout",
     "output_type": "stream",
     "text": [
      "Test Accuracy: 0.906\n",
      "ROC AUC: 0.676\n"
     ]
    }
   ],
   "source": [
    "pipe_lr = Pipeline([(\n",
    "    'scl', StandardScaler()), ('pca', PCA(n_components=40)), ('clf', LogisticRegression(random_state=1))])\n",
    "pipe_lr.fit(X_train, y_train)\n",
    "print('Test Accuracy: %.3f' % pipe_lr.score(X_test, y_test))\n",
    "print('ROC AUC: %.3f' % roc_auc_score(y_test,pipe_lr.predict_proba(X_test)[:,1]))"
   ]
  },
  {
   "cell_type": "code",
   "execution_count": 43,
   "metadata": {
    "collapsed": false
   },
   "outputs": [
    {
     "data": {
      "image/png": "[encoded data removed]",
      "text/plain": [
       "<matplotlib.figure.Figure at 0x11303c8d0>"
      ]
     },
     "metadata": {},
     "output_type": "display_data"
    }
   ],
   "source": [
    "y_pred = pipe_lr.predict(X_test)\n",
    "confmat = confusion_matrix(y_true=y_test, y_pred=y_pred)\n",
    "fig, ax = plt.subplots(figsize=(2.5, 2.5))\n",
    "ax.matshow(confmat, cmap=plt.cm.BuPu, alpha=0.3)\n",
    "for i in range(confmat.shape[0]):\n",
    "    for j in range(confmat.shape[1]):\n",
    "        ax.text(x=j, y=i,\n",
    "                s=confmat[i, j],\n",
    "                va='center', ha='center')\n",
    "plt.xlabel('predicted label')\n",
    "plt.ylabel('true label')\n",
    "plt.show()"
   ]
  },
  {
   "cell_type": "markdown",
   "metadata": {},
   "source": [
    "The model performs a bit worse. It is also important to notice that the 'accuracy' score may not be the best metric in this case, because the changes in accuracy are very very small, whereas the ROC AUC reflected the change. Let's look at another few permormance metrics and see to what extent they were able to reflect the change. In particular, I will compute precision, recall and f1 score. I will compute these scores manually as to not waste time re-running the LR algorithms."
   ]
  },
  {
   "cell_type": "code",
   "execution_count": 47,
   "metadata": {
    "collapsed": false
   },
   "outputs": [
    {
     "name": "stdout",
     "output_type": "stream",
     "text": [
      "LR without PCA:\n",
      "PRE =  0.008\n",
      "REC =  0.49\n",
      "F1 =  0.016\n",
      "\n",
      " LR with PCA (n=40):\n",
      "PRE =  0.0\n",
      "REC =  0.5\n",
      "F1 =  0.016\n"
     ]
    }
   ],
   "source": [
    "print(\"LR without PCA:\")\n",
    "pre1=25/(25+2957)\n",
    "print(\"PRE = \",round(pre1,3))\n",
    "rec1=25/(26+25)\n",
    "print(\"REC = \",round(rec1,3))\n",
    "f11=2*(pre1*rec1)/(pre1+rec1)\n",
    "print(\"F1 = \",round(f11,3))\n",
    "print(\"\\n\",\"LR with PCA (n=40):\")\n",
    "pre2=1/(1+2981)\n",
    "print(\"PRE = \",round(pre2,3))\n",
    "rec2=1/(1+1)\n",
    "print(\"REC = \",round(rec2,3))\n",
    "f12=2*(pre1*rec1)/(pre1+rec1)\n",
    "print(\"F1 = \",round(f12,3))"
   ]
  },
  {
   "cell_type": "markdown",
   "metadata": {},
   "source": [
    "So far ROC AUC seems to capture the differences the most, so I will use it as a metric for estimating the value of parameters 'C' and 'penalty' via grid search for logistic regression."
   ]
  },
  {
   "cell_type": "markdown",
   "metadata": {},
   "source": [
    "### Grid search"
   ]
  },
  {
   "cell_type": "code",
   "execution_count": 50,
   "metadata": {
    "collapsed": false
   },
   "outputs": [
    {
     "name": "stdout",
     "output_type": "stream",
     "text": [
      "0.678506858353\n",
      "{'clf__C': 0.001, 'clf__penalty': 'l2'}\n"
     ]
    }
   ],
   "source": [
    "pipe_lr = Pipeline([('scl', StandardScaler()), ('pca', PCA(n_components=40)), ('clf', LogisticRegression(random_state=1))])\n",
    "param_grid = [{'clf__penalty': ['l1', 'l2'],'clf__C': [0.001, 0.1, 1.0, 10.0, 100.0, 1000.0, 1e12]}]\n",
    "gs = GridSearchCV(estimator=pipe_lr, param_grid=param_grid, scoring='roc_auc',cv=10, n_jobs=-1)\n",
    "gs = gs.fit(X_train, y_train)\n",
    "print(gs.best_score_)\n",
    "print(gs.best_params_)"
   ]
  },
  {
   "cell_type": "markdown",
   "metadata": {},
   "source": [
    "According to the results, I should use a low 'C' parameter (implying higher regularization) and 'l2' norm for penalization. Let's run the regression using the suggested parameters."
   ]
  },
  {
   "cell_type": "code",
   "execution_count": 63,
   "metadata": {
    "collapsed": false
   },
   "outputs": [
    {
     "name": "stdout",
     "output_type": "stream",
     "text": [
      "Test Accuracy: 0.906\n",
      "ROC AUC: 0.676\n"
     ]
    }
   ],
   "source": [
    "pipe_lr = Pipeline([('scl', StandardScaler()), ('pca', PCA(n_components=40)),\n",
    "                    ('clf', LogisticRegression(penalty='l2', C=0.001,random_state=1))])\n",
    "pipe_lr.fit(X_train, y_train)\n",
    "print('Test Accuracy: %.3f' % pipe_lr.score(X_test, y_test))\n",
    "print('ROC AUC: %.3f' % roc_auc_score(y_test,pipe_lr.predict_proba(X_test)[:,1]))"
   ]
  },
  {
   "cell_type": "markdown",
   "metadata": {},
   "source": [
    "#### Confusion matrix"
   ]
  },
  {
   "cell_type": "code",
   "execution_count": 61,
   "metadata": {
    "collapsed": false
   },
   "outputs": [
    {
     "data": {
      "image/png": "[encoded data removed]",
      "text/plain": [
       "<matplotlib.figure.Figure at 0x115044940>"
      ]
     },
     "metadata": {},
     "output_type": "display_data"
    }
   ],
   "source": [
    "y_pred = pipe_lr.predict(X_test)\n",
    "confmat = confusion_matrix(y_true=y_test, y_pred=y_pred)\n",
    "fig, ax = plt.subplots(figsize=(2.5, 2.5))\n",
    "ax.matshow(confmat, cmap=plt.cm.BuPu, alpha=0.3)\n",
    "for i in range(confmat.shape[0]):\n",
    "    for j in range(confmat.shape[1]):\n",
    "        ax.text(x=j, y=i,\n",
    "                s=confmat[i, j],\n",
    "                va='center', ha='center')\n",
    "plt.xlabel('predicted label')\n",
    "plt.ylabel('true label')\n",
    "plt.show()"
   ]
  },
  {
   "cell_type": "markdown",
   "metadata": {},
   "source": [
    "The results are exactly the same as when running PCA with the default paramaters, because I only changed 'C' from 1.0 to 0.001, which is apparently so small change in regularization that it did not affect the results. So far I have not been able to get a better score than when using all of the 731 features, but I have been able to reduce computation time significantly while still getting the same accuracy."
   ]
  },
  {
   "cell_type": "markdown",
   "metadata": {},
   "source": [
    "The lower number of features also allow me to construct a learning curve:"
   ]
  },
  {
   "cell_type": "markdown",
   "metadata": {},
   "source": [
    "#### Learning curve"
   ]
  },
  {
   "cell_type": "code",
   "execution_count": 106,
   "metadata": {
    "collapsed": false
   },
   "outputs": [
    {
     "data": {
      "image/png": "[encoded data removed]",
      "text/plain": [
       "<matplotlib.figure.Figure at 0x116b967f0>"
      ]
     },
     "metadata": {},
     "output_type": "display_data"
    }
   ],
   "source": [
    "pipe_lr = Pipeline([('scl', StandardScaler()), ('pca', PCA(n_components=40)),\n",
    "                    ('clf', LogisticRegression(penalty='l2', C=0.001,random_state=1))])\n",
    "train_sizes, train_scores, test_scores = learning_curve(estimator=pipe_lr, X=X_train, y=y_train,\n",
    "                                                        train_sizes=np.linspace(0.1, 1.0, 10),\n",
    "                                                        cv=10, n_jobs=-1)\n",
    "train_mean = np.mean(train_scores, axis=1)\n",
    "train_std = np.std(train_scores, axis=1)\n",
    "test_mean = np.mean(test_scores, axis=1)\n",
    "test_std = np.std(test_scores, axis=1)\n",
    "\n",
    "plt.plot(train_sizes, train_mean, color='blue', marker='o', markersize=5, label='training accuracy')\n",
    "plt.fill_between(train_sizes, train_mean + train_std, train_mean - train_std, alpha=0.15, color='cyan')\n",
    "plt.plot(train_sizes, test_mean, color='red', linestyle='--', marker='s', markersize=5, label='validation accuracy')\n",
    "plt.fill_between(train_sizes, test_mean + test_std, test_mean - test_std, alpha=0.15, color='red')\n",
    "\n",
    "plt.grid()\n",
    "plt.xlabel('Number of training samples')\n",
    "plt.ylabel('Accuracy')\n",
    "plt.legend(loc='lower right')\n",
    "plt.show()"
   ]
  },
  {
   "cell_type": "markdown",
   "metadata": {},
   "source": [
    "The results are exactly the same as when running PCA with the default paramaters, because I only changed 'C' from 1.0 to 0.001, which is apparently so small change in regularization that it did not affect the results. So far I have not been able to get a better score than when using all of the 731 features, but I have been able to reduce computation time significantly while still getting the same accuracy. I will now try some feature selection to see if I can get a better result."
   ]
  },
  {
   "cell_type": "markdown",
   "metadata": {},
   "source": [
    "### 2) Feature selection"
   ]
  },
  {
   "cell_type": "markdown",
   "metadata": {},
   "source": [
    "#### Random Forrest Classifier"
   ]
  },
  {
   "cell_type": "markdown",
   "metadata": {},
   "source": [
    "Because RFC can only handle 'float32' values without NAs, I will firstly check if my data satisfy the criteria."
   ]
  },
  {
   "cell_type": "code",
   "execution_count": 67,
   "metadata": {
    "collapsed": false
   },
   "outputs": [
    {
     "name": "stdout",
     "output_type": "stream",
     "text": [
      "Max. allowed value:  3.40282e+38\n",
      "Min. allowed value:  -3.40282e+38\n"
     ]
    }
   ],
   "source": [
    "print(\"Max. allowed value: \",np.finfo('float32').max)\n",
    "print(\"Min. allowed value: \",np.finfo('float32').min)"
   ]
  },
  {
   "cell_type": "code",
   "execution_count": 79,
   "metadata": {
    "collapsed": false
   },
   "outputs": [
    {
     "name": "stdout",
     "output_type": "stream",
     "text": [
      "Is there an NA value?  False\n",
      "Is there a value too large or too small?  True\n"
     ]
    }
   ],
   "source": [
    "print(\"Is there an NA value? \",np.any(np.isnan(X)))\n",
    "print(\"Is there a value too large or too small? \",np.all(np.isfinite(X)))"
   ]
  },
  {
   "cell_type": "code",
   "execution_count": 73,
   "metadata": {
    "collapsed": false
   },
   "outputs": [
    {
     "name": "stdout",
     "output_type": "stream",
     "text": [
      "Which columns have these values?\n"
     ]
    },
    {
     "data": {
      "text/plain": [
       "['f391', 'f627']"
      ]
     },
     "execution_count": 73,
     "metadata": {},
     "output_type": "execute_result"
    }
   ],
   "source": [
    "print(\"Which columns have these values?\")\n",
    "list(X.columns[(sum(X.values>np.finfo('float32').max))>0])"
   ]
  },
  {
   "cell_type": "code",
   "execution_count": 76,
   "metadata": {
    "collapsed": false
   },
   "outputs": [
    {
     "name": "stdout",
     "output_type": "stream",
     "text": [
      "How many unacceptable values are in each of these columns? \n",
      "\n",
      "'f391':  53748\n",
      "'f627':  59003\n"
     ]
    }
   ],
   "source": [
    "print(\"How many unacceptable values are in each of these columns?\",\"\\n\")\n",
    "print(\"'f391': \",sum(X['f391']>np.finfo('float32').max))\n",
    "print(\"'f627': \",sum(X['f627']>np.finfo('float32').max))"
   ]
  },
  {
   "cell_type": "markdown",
   "metadata": {},
   "source": [
    "Therefore, I have to remove these columns. If they only contained a few values, I could remove the rows, but this way I have to remove the columns. Such large numbers will probably be some sort of IDs and probably do not help anyway."
   ]
  },
  {
   "cell_type": "code",
   "execution_count": 78,
   "metadata": {
    "collapsed": false
   },
   "outputs": [
    {
     "name": "stdout",
     "output_type": "stream",
     "text": [
      " 1) f67                            0.004111\n",
      " 2) f670                           0.003528\n",
      " 3) f3                             0.003184\n",
      " 4) f468                           0.003162\n",
      " 5) f655                           0.002988\n",
      " 6) f404                           0.002971\n",
      " 7) f211                           0.002930\n",
      " 8) f766                           0.002920\n",
      " 9) f746                           0.002885\n",
      "10) f471                           0.002876\n",
      "11) f596                           0.002869\n",
      "12) f432                           0.002835\n",
      "13) f598                           0.002798\n",
      "14) f629                           0.002692\n",
      "15) f212                           0.002663\n",
      "16) f412                           0.002609\n",
      "17) f384                           0.002604\n",
      "18) f75                            0.002600\n",
      "19) f271                           0.002596\n",
      "20) f630                           0.002583\n",
      "21) f767                           0.002562\n",
      "22) f393                           0.002540\n",
      "23) f514                           0.002539\n",
      "24) f405                           0.002508\n",
      "25) f739                           0.002508\n",
      "26) f76                            0.002504\n",
      "27) f674                           0.002504\n",
      "28) f282                           0.002478\n",
      "29) f640                           0.002470\n",
      "30) f132                           0.002464\n",
      "31) f654                           0.002443\n",
      "32) f775                           0.002437\n",
      "33) f533                           0.002410\n",
      "34) f652                           0.002399\n",
      "35) f422                           0.002395\n",
      "36) f601                           0.002394\n",
      "37) f672                           0.002392\n",
      "38) f614                           0.002385\n",
      "39) f143                           0.002366\n",
      "40) f638                           0.002359\n",
      "41) f281                           0.002356\n",
      "42) f737                           0.002346\n",
      "43) f142                           0.002345\n",
      "44) f366                           0.002343\n",
      "45) f201                           0.002331\n",
      "46) f413                           0.002327\n",
      "47) f738                           0.002325\n",
      "48) f433                           0.002320\n",
      "49) f673                           0.002314\n",
      "50) f332                           0.002298\n",
      "51) f639                           0.002289\n",
      "52) f16                            0.002280\n",
      "53) f646                           0.002259\n",
      "54) f63                            0.002255\n",
      "55) f734                           0.002253\n",
      "56) f13                            0.002250\n",
      "57) f68                            0.002246\n",
      "58) f740                           0.002244\n",
      "59) f333                           0.002239\n",
      "60) f377                           0.002236\n",
      "61) f149                           0.002228\n",
      "62) f289                           0.002224\n",
      "63) f272                           0.002215\n",
      "64) f518                           0.002210\n",
      "65) f647                           0.002205\n",
      "66) f597                           0.002202\n",
      "67) f743                           0.002197\n",
      "68) f376                           0.002193\n",
      "69) f431                           0.002182\n",
      "70) f64                            0.002178\n",
      "71) f374                           0.002173\n",
      "72) f19                            0.002163\n",
      "73) f637                           0.002157\n",
      "74) f613                           0.002153\n",
      "75) f516                           0.002144\n",
      "76) f442                           0.002142\n",
      "77) f45                            0.002140\n",
      "78) f180                           0.002135\n",
      "79) f133                           0.002128\n",
      "80) f682                           0.002126\n",
      "81) f522                           0.002126\n",
      "82) f54                            0.002123\n",
      "83) f56                            0.002122\n",
      "84) f71                            0.002112\n",
      "85) f600                           0.002111\n",
      "86) f202                           0.002110\n",
      "87) f60                            0.002109\n",
      "88) f46                            0.002106\n",
      "89) f59                            0.002101\n",
      "90) f774                           0.002099\n",
      "91) f6                             0.002091\n",
      "92) f727                           0.002083\n",
      "93) f179                           0.002072\n",
      "94) f609                           0.002068\n",
      "95) f768                           0.002067\n",
      "96) f26                            0.002058\n",
      "97) f680                           0.002057\n",
      "98) f261                           0.002050\n",
      "99) f696                           0.002045\n",
      "100) f402                           0.002037\n",
      "101) f144                           0.002035\n",
      "102) f44                            0.002028\n",
      "103) f406                           0.002022\n",
      "104) f756                           0.002019\n",
      "105) f70                            0.002017\n",
      "106) f733                           0.002001\n",
      "107) f385                           0.002000\n",
      "108) f436                           0.001999\n",
      "109) f612                           0.001990\n",
      "110) f278                           0.001988\n",
      "111) f658                           0.001983\n",
      "112) f536                           0.001983\n",
      "113) f525                           0.001982\n",
      "114) f170                           0.001980\n",
      "115) f10                            0.001978\n",
      "116) f448                           0.001977\n",
      "117) f349                           0.001974\n",
      "118) f322                           0.001971\n",
      "119) f367                           0.001968\n",
      "120) f659                           0.001964\n",
      "121) f357                           0.001959\n",
      "122) f32                            0.001954\n",
      "123) f458                           0.001945\n",
      "124) f765                           0.001944\n",
      "125) f716                           0.001940\n",
      "126) f444                           0.001940\n",
      "127) f451                           0.001939\n",
      "128) f745                           0.001939\n",
      "129) f169                           0.001930\n",
      "130) f479                           0.001929\n",
      "131) f499                           0.001928\n",
      "132) f645                           0.001924\n",
      "133) f365                           0.001923\n",
      "134) f399                           0.001922\n",
      "135) f251                           0.001920\n",
      "136) f676                           0.001919\n",
      "137) f55                            0.001918\n",
      "138) f636                           0.001917\n",
      "139) f631                           0.001908\n",
      "140) f280                           0.001908\n",
      "141) f588                           0.001907\n",
      "142) f628                           0.001904\n",
      "143) f279                           0.001903\n",
      "144) f641                           0.001903\n",
      "145) f148                           0.001900\n",
      "146) f209                           0.001900\n",
      "147) f122                           0.001890\n",
      "148) f9                             0.001883\n",
      "149) f22                            0.001882\n",
      "150) f657                           0.001882\n",
      "151) f397                           0.001881\n",
      "152) f635                           0.001881\n",
      "153) f273                           0.001878\n",
      "154) f649                           0.001870\n",
      "155) f159                           0.001870\n",
      "156) f642                           0.001869\n",
      "157) f218                           0.001864\n",
      "158) f664                           0.001863\n",
      "159) f150                           0.001862\n",
      "160) f509                           0.001857\n",
      "161) f378                           0.001851\n",
      "162) f395                           0.001849\n",
      "163) f392                           0.001848\n",
      "164) f50                            0.001836\n",
      "165) f660                           0.001834\n",
      "166) f425                           0.001834\n",
      "167) f160                           0.001833\n",
      "168) f401                           0.001833\n",
      "169) f524                           0.001829\n",
      "170) f210                           0.001828\n",
      "171) f671                           0.001828\n",
      "172) f368                           0.001825\n",
      "173) f69                            0.001824\n",
      "174) f763                           0.001822\n",
      "175) f359                           0.001815\n",
      "176) f751                           0.001815\n",
      "177) f25                            0.001814\n",
      "178) f360                           0.001813\n",
      "179) f203                           0.001811\n",
      "180) f147                           0.001810\n",
      "181) f340                           0.001810\n",
      "182) f23                            0.001809\n",
      "183) f208                           0.001808\n",
      "184) f66                            0.001808\n",
      "185) f373                           0.001807\n",
      "186) f375                           0.001806\n",
      "187) f199                           0.001804\n",
      "188) f49                            0.001801\n",
      "189) f398                           0.001800\n",
      "190) f383                           0.001793\n",
      "191) f441                           0.001791\n",
      "192) f189                           0.001788\n",
      "193) f21                            0.001786\n",
      "194) f396                           0.001785\n",
      "195) f623                           0.001785\n",
      "196) f39                            0.001785\n",
      "197) f489                           0.001784\n",
      "198) f369                           0.001784\n",
      "199) f663                           0.001781\n",
      "200) f361                           0.001778\n",
      "201) f517                           0.001774\n",
      "202) f351                           0.001772\n",
      "203) f648                           0.001771\n",
      "204) f443                           0.001770\n",
      "205) f624                           0.001768\n",
      "206) f47                            0.001766\n",
      "207) f669                           0.001759\n",
      "208) f662                           0.001758\n",
      "209) f387                           0.001758\n",
      "210) f191                           0.001751\n",
      "211) f65                            0.001750\n",
      "212) f146                           0.001750\n",
      "213) f352                           0.001746\n",
      "214) f388                           0.001742\n",
      "215) f622                           0.001738\n",
      "216) f386                           0.001738\n",
      "217) f141                           0.001738\n",
      "218) f760                           0.001734\n",
      "219) f513                           0.001733\n",
      "220) f14                            0.001731\n",
      "221) f620                           0.001730\n",
      "222) f61                            0.001729\n",
      "223) f643                           0.001728\n",
      "224) f57                            0.001728\n",
      "225) f288                           0.001726\n",
      "226) f778                           0.001724\n",
      "227) f342                           0.001721\n",
      "228) f634                           0.001720\n",
      "229) f53                            0.001719\n",
      "230) f43                            0.001713\n",
      "231) f20                            0.001710\n",
      "232) f213                           0.001707\n",
      "233) f15                            0.001697\n",
      "234) f611                           0.001697\n",
      "235) f744                           0.001696\n",
      "236) f450                           0.001692\n",
      "237) f350                           0.001689\n",
      "238) f430                           0.001688\n",
      "239) f370                           0.001674\n",
      "240) f190                           0.001670\n",
      "241) f40                            0.001669\n",
      "242) f41                            0.001669\n",
      "243) f424                           0.001663\n",
      "244) f134                           0.001663\n",
      "245) f726                           0.001661\n",
      "246) f145                           0.001658\n",
      "247) f51                            0.001656\n",
      "248) f435                           0.001654\n",
      "249) f423                           0.001654\n",
      "250) f434                           0.001651\n",
      "251) f344                           0.001648\n",
      "252) f339                           0.001647\n",
      "253) f353                           0.001646\n",
      "254) f139                           0.001644\n",
      "255) f112                           0.001642\n",
      "256) f140                           0.001635\n",
      "257) f358                           0.001630\n",
      "258) f356                           0.001628\n",
      "259) f348                           0.001627\n",
      "260) f17                            0.001624\n",
      "261) f334                           0.001623\n",
      "262) f651                           0.001623\n",
      "263) f343                           0.001614\n",
      "264) f618                           0.001612\n",
      "265) f277                           0.001605\n",
      "266) f650                           0.001600\n",
      "267) f661                           0.001599\n",
      "268) f72                            0.001599\n",
      "269) f31                            0.001579\n",
      "270) f283                           0.001577\n",
      "271) f77                            0.001575\n",
      "272) f314                           0.001562\n",
      "273) f81                            0.001562\n",
      "274) f656                           0.001560\n",
      "275) f330                           0.001557\n",
      "276) f621                           0.001543\n",
      "277) f429                           0.001536\n",
      "278) f668                           0.001534\n",
      "279) f341                           0.001532\n",
      "280) f593                           0.001532\n",
      "281) f587                           0.001528\n",
      "282) f411                           0.001527\n",
      "283) f677                           0.001518\n",
      "284) f181                           0.001515\n",
      "285) f18                            0.001514\n",
      "286) f29                            0.001513\n",
      "287) f200                           0.001512\n",
      "288) f653                           0.001504\n",
      "289) f221                           0.001503\n",
      "290) f394                           0.001497\n",
      "291) f526                           0.001490\n",
      "292) f80                            0.001490\n",
      "293) f207                           0.001488\n",
      "294) f204                           0.001486\n",
      "295) f205                           0.001485\n",
      "296) f742                           0.001484\n",
      "297) f626                           0.001478\n",
      "298) f217                           0.001476\n",
      "299) f161                           0.001475\n",
      "300) f206                           0.001467\n",
      "301) f30                            0.001462\n",
      "302) f219                           0.001459\n",
      "303) f220                           0.001457\n",
      "304) f338                           0.001456\n",
      "305) f390                           0.001453\n",
      "306) f102                           0.001434\n",
      "307) f287                           0.001433\n",
      "308) f138                           0.001429\n",
      "309) f410                           0.001427\n",
      "310) f586                           0.001425\n",
      "311) f337                           0.001424\n",
      "312) f230                           0.001421\n",
      "313) f667                           0.001419\n",
      "314) f229                           0.001415\n",
      "315) f698                           0.001413\n",
      "316) f735                           0.001401\n",
      "317) f1                             0.001391\n",
      "318) f619                           0.001390\n",
      "319) f276                           0.001384\n",
      "320) f695                           0.001381\n",
      "321) f336                           0.001381\n",
      "322) f193                           0.001378\n",
      "323) f428                           0.001372\n",
      "324) f91                            0.001366\n",
      "325) f523                           0.001363\n",
      "326) f665                           0.001363\n",
      "327) f331                           0.001360\n",
      "328) f409                           0.001357\n",
      "329) f286                           0.001351\n",
      "330) f416                           0.001349\n",
      "331) f382                           0.001343\n",
      "332) f92                            0.001337\n",
      "333) f111                           0.001323\n",
      "334) f240                           0.001323\n",
      "335) f101                           0.001322\n",
      "336) f275                           0.001322\n",
      "337) f216                           0.001316\n",
      "338) f632                           0.001315\n",
      "339) f90                            0.001315\n",
      "340) f231                           0.001313\n",
      "341) f364                           0.001310\n",
      "342) f24                            0.001309\n",
      "343) f250                           0.001303\n",
      "344) f715                           0.001295\n",
      "345) f589                           0.001294\n",
      "346) f171                           0.001292\n",
      "347) f694                           0.001289\n",
      "348) f421                           0.001288\n",
      "349) f100                           0.001283\n",
      "350) f298                           0.001283\n",
      "351) f381                           0.001276\n",
      "352) f183                           0.001273\n",
      "353) f260                           0.001269\n",
      "354) f239                           0.001269\n",
      "355) f110                           0.001268\n",
      "356) f178                           0.001268\n",
      "357) f249                           0.001265\n",
      "358) f137                           0.001264\n",
      "359) f440                           0.001264\n",
      "360) f697                           0.001261\n",
      "361) f675                           0.001255\n",
      "362) f28                            0.001253\n",
      "363) f415                           0.001249\n",
      "364) f717                           0.001245\n",
      "365) f173                           0.001235\n",
      "366) f546                           0.001235\n",
      "367) f520                           0.001234\n",
      "368) f732                           0.001232\n",
      "369) f163                           0.001232\n",
      "370) f407                           0.001231\n",
      "371) f153                           0.001231\n",
      "372) f594                           0.001230\n",
      "373) f380                           0.001230\n",
      "374) f306                           0.001229\n",
      "375) f259                           0.001229\n",
      "376) f414                           0.001226\n",
      "377) f335                           0.001223\n",
      "378) f27                            0.001215\n",
      "379) f773                           0.001212\n",
      "380) f136                           0.001211\n",
      "381) f308                           0.001205\n",
      "382) f566                           0.001205\n",
      "383) f400                           0.001203\n",
      "384) f285                           0.001198\n",
      "385) f420                           0.001198\n",
      "386) f269                           0.001193\n",
      "387) f755                           0.001192\n",
      "388) f610                           0.001191\n",
      "389) f168                           0.001186\n",
      "390) f363                           0.001186\n",
      "391) f772                           0.001178\n",
      "392) f324                           0.001178\n",
      "393) f556                           0.001173\n",
      "394) f731                           0.001173\n",
      "395) f241                           0.001172\n",
      "396) f300                           0.001171\n",
      "397) f82                            0.001168\n",
      "398) f754                           0.001167\n",
      "399) f426                           0.001167\n",
      "400) f470                           0.001164\n",
      "401) f418                           0.001158\n",
      "402) f419                           0.001156\n",
      "403) f158                           0.001155\n",
      "404) f771                           0.001153\n",
      "405) f464                           0.001150\n",
      "406) f135                           0.001148\n",
      "407) f590                           0.001148\n",
      "408) f449                           0.001147\n",
      "409) f438                           0.001146\n",
      "410) f721                           0.001145\n",
      "411) f270                           0.001143\n",
      "412) f194                           0.001139\n",
      "413) f195                           0.001137\n",
      "414) f699                           0.001134\n",
      "415) f151                           0.001133\n",
      "416) f769                           0.001132\n",
      "417) f730                           0.001130\n",
      "418) f607                           0.001126\n",
      "419) f79                            0.001123\n",
      "420) f316                           0.001122\n",
      "421) f215                           0.001111\n",
      "422) f196                           0.001107\n",
      "423) f197                           0.001102\n",
      "424) f446                           0.001098\n",
      "425) f121                           0.001097\n",
      "426) f472                           0.001094\n",
      "427) f753                           0.001091\n",
      "428) f529                           0.001087\n",
      "429) f720                           0.001082\n",
      "430) f519                           0.001077\n",
      "431) f347                           0.001075\n",
      "432) f187                           0.001074\n",
      "433) f120                           0.001073\n",
      "434) f535                           0.001072\n",
      "435) f313                           0.001072\n",
      "436) f372                           0.001059\n",
      "437) f693                           0.001059\n",
      "438) f747                           0.001057\n",
      "439) f130                           0.001056\n",
      "440) f689                           0.001055\n",
      "441) f728                           0.001054\n",
      "442) f469                           0.001050\n",
      "443) f465                           0.001048\n",
      "444) f4                             0.001044\n",
      "445) f323                           0.001040\n",
      "446) f186                           0.001038\n",
      "447) f719                           0.001035\n",
      "448) f184                           0.001034\n",
      "449) f445                           0.001033\n",
      "450) f274                           0.001033\n",
      "451) f253                           0.001032\n",
      "452) f78                            0.001029\n",
      "453) f710                           0.001028\n",
      "454) f346                           0.001026\n",
      "455) f437                           0.001025\n",
      "456) f305                           0.001025\n",
      "457) f263                           0.001023\n",
      "458) f606                           0.001021\n",
      "459) f466                           0.001019\n",
      "460) f692                           0.001019\n",
      "461) f185                           0.001019\n",
      "462) f214                           0.001014\n",
      "463) f131                           0.001011\n",
      "464) f188                           0.001009\n",
      "465) f527                           0.001006\n",
      "466) f528                           0.001005\n",
      "467) f705                           0.000996\n",
      "468) f706                           0.000996\n",
      "469) f761                           0.000994\n",
      "470) f714                           0.000989\n",
      "471) f688                           0.000988\n",
      "472) f545                           0.000988\n",
      "473) f762                           0.000983\n",
      "474) f711                           0.000981\n",
      "475) f752                           0.000980\n",
      "476) f166                           0.000979\n",
      "477) f712                           0.000977\n",
      "478) f759                           0.000976\n",
      "479) f749                           0.000976\n",
      "480) f709                           0.000976\n",
      "481) f505                           0.000975\n",
      "482) f537                           0.000972\n",
      "483) f355                           0.000971\n",
      "484) f511                           0.000970\n",
      "485) f591                           0.000969\n",
      "486) f540                           0.000968\n",
      "487) f174                           0.000968\n",
      "488) f164                           0.000966\n",
      "489) f718                           0.000964\n",
      "490) f175                           0.000963\n",
      "491) f704                           0.000963\n",
      "492) f228                           0.000962\n",
      "493) f750                           0.000962\n",
      "494) f703                           0.000961\n",
      "495) f534                           0.000958\n",
      "496) f691                           0.000956\n",
      "497) f2                             0.000955\n",
      "498) f758                           0.000955\n",
      "499) f748                           0.000953\n",
      "500) f165                           0.000951\n",
      "501) f684                           0.000950\n",
      "502) f5                             0.000949\n",
      "503) f284                           0.000946\n",
      "504) f167                           0.000946\n",
      "505) f176                           0.000945\n",
      "506) f177                           0.000943\n",
      "507) f292                           0.000943\n",
      "508) f155                           0.000940\n",
      "509) f154                           0.000939\n",
      "510) f708                           0.000939\n",
      "511) f757                           0.000934\n",
      "512) f592                           0.000934\n",
      "513) f156                           0.000931\n",
      "514) f447                           0.000924\n",
      "515) f687                           0.000923\n",
      "516) f707                           0.000923\n",
      "517) f531                           0.000923\n",
      "518) f460                           0.000922\n",
      "519) f157                           0.000919\n",
      "520) f503                           0.000917\n",
      "521) f565                           0.000914\n",
      "522) f454                           0.000913\n",
      "523) f467                           0.000912\n",
      "524) f223                           0.000909\n",
      "525) f515                           0.000908\n",
      "526) f498                           0.000906\n",
      "527) f608                           0.000903\n",
      "528) f501                           0.000898\n",
      "529) f290                           0.000898\n",
      "530) f521                           0.000897\n",
      "531) f506                           0.000897\n",
      "532) f504                           0.000895\n",
      "533) f488                           0.000895\n",
      "534) f507                           0.000892\n",
      "535) f508                           0.000892\n",
      "536) f538                           0.000891\n",
      "537) f258                           0.000891\n",
      "538) f512                           0.000889\n",
      "539) f543                           0.000888\n",
      "540) f560                           0.000887\n",
      "541) f297                           0.000887\n",
      "542) f439                           0.000886\n",
      "543) f683                           0.000886\n",
      "544) f457                           0.000884\n",
      "545) f495                           0.000884\n",
      "546) f530                           0.000884\n",
      "547) f532                           0.000882\n",
      "548) f690                           0.000882\n",
      "549) f510                           0.000880\n",
      "550) f555                           0.000879\n",
      "551) f7                             0.000877\n",
      "552) f452                           0.000876\n",
      "553) f491                           0.000874\n",
      "554) f107                           0.000871\n",
      "555) f8                             0.000869\n",
      "556) f563                           0.000869\n",
      "557) f582                           0.000868\n",
      "558) f547                           0.000867\n",
      "559) f575                           0.000865\n",
      "560) f725                           0.000865\n",
      "561) f561                           0.000865\n",
      "562) f686                           0.000864\n",
      "563) f553                           0.000861\n",
      "564) f105                           0.000859\n",
      "565) f573                           0.000858\n",
      "566) f539                           0.000857\n",
      "567) f496                           0.000856\n",
      "568) f108                           0.000856\n",
      "569) f685                           0.000855\n",
      "570) f562                           0.000854\n",
      "571) f453                           0.000854\n",
      "572) f481                           0.000852\n",
      "573) f225                           0.000849\n",
      "574) f564                           0.000849\n",
      "575) f227                           0.000848\n",
      "576) f238                           0.000848\n",
      "577) f321                           0.000846\n",
      "578) f124                           0.000846\n",
      "579) f461                           0.000846\n",
      "580) f106                           0.000845\n",
      "581) f87                            0.000843\n",
      "582) f224                           0.000843\n",
      "583) f550                           0.000842\n",
      "584) f85                            0.000842\n",
      "585) f459                           0.000841\n",
      "586) f558                           0.000841\n",
      "587) f485                           0.000840\n",
      "588) f226                           0.000840\n",
      "589) f198                           0.000839\n",
      "590) f567                           0.000838\n",
      "591) f88                            0.000834\n",
      "592) f86                            0.000834\n",
      "593) f497                           0.000833\n",
      "594) f544                           0.000833\n",
      "595) f493                           0.000830\n",
      "596) f483                           0.000826\n",
      "597) f456                           0.000826\n",
      "598) f262                           0.000824\n",
      "599) f114                           0.000821\n",
      "600) f246                           0.000820\n",
      "601) f570                           0.000819\n",
      "602) f551                           0.000819\n",
      "603) f484                           0.000818\n",
      "604) f492                           0.000817\n",
      "605) f455                           0.000817\n",
      "606) f542                           0.000817\n",
      "607) f477                           0.000816\n",
      "608) f315                           0.000813\n",
      "609) f476                           0.000813\n",
      "610) f475                           0.000809\n",
      "611) f584                           0.000809\n",
      "612) f403                           0.000808\n",
      "613) f128                           0.000807\n",
      "614) f252                           0.000806\n",
      "615) f579                           0.000806\n",
      "616) f89                            0.000806\n",
      "617) f490                           0.000805\n",
      "618) f541                           0.000805\n",
      "619) f494                           0.000804\n",
      "620) f103                           0.000803\n",
      "621) f115                           0.000802\n",
      "622) f500                           0.000802\n",
      "623) f502                           0.000801\n",
      "624) f487                           0.000800\n",
      "625) f118                           0.000800\n",
      "626) f116                           0.000800\n",
      "627) f569                           0.000800\n",
      "628) f557                           0.000799\n",
      "629) f486                           0.000799\n",
      "630) f559                           0.000797\n",
      "631) f580                           0.000796\n",
      "632) f97                            0.000794\n",
      "633) f98                            0.000794\n",
      "634) f572                           0.000792\n",
      "635) f257                           0.000792\n",
      "636) f552                           0.000791\n",
      "637) f127                           0.000788\n",
      "638) f577                           0.000788\n",
      "639) f482                           0.000787\n",
      "640) f126                           0.000787\n",
      "641) f480                           0.000785\n",
      "642) f548                           0.000783\n",
      "643) f117                           0.000783\n",
      "644) f96                            0.000783\n",
      "645) f247                           0.000782\n",
      "646) f568                           0.000782\n",
      "647) f95                            0.000781\n",
      "648) f554                           0.000780\n",
      "649) f245                           0.000779\n",
      "650) f255                           0.000779\n",
      "651) f99                            0.000776\n",
      "652) f571                           0.000774\n",
      "653) f244                           0.000772\n",
      "654) f254                           0.000772\n",
      "655) f125                           0.000770\n",
      "656) f222                           0.000770\n",
      "657) f265                           0.000768\n",
      "658) f581                           0.000764\n",
      "659) f574                           0.000764\n",
      "660) f264                           0.000763\n",
      "661) f266                           0.000763\n",
      "662) f583                           0.000762\n",
      "663) f576                           0.000762\n",
      "664) f256                           0.000760\n",
      "665) f549                           0.000759\n",
      "666) f123                           0.000756\n",
      "667) f192                           0.000754\n",
      "668) f578                           0.000752\n",
      "669) f236                           0.000751\n",
      "670) f113                           0.000746\n",
      "671) f234                           0.000744\n",
      "672) f585                           0.000738\n",
      "673) f267                           0.000738\n",
      "674) f233                           0.000737\n",
      "675) f248                           0.000736\n",
      "676) f329                           0.000736\n",
      "677) f679                           0.000723\n",
      "678) f109                           0.000718\n",
      "679) f237                           0.000715\n",
      "680) f235                           0.000713\n",
      "681) f119                           0.000710\n",
      "682) f84                            0.000706\n",
      "683) f93                            0.000691\n",
      "684) f268                           0.000688\n",
      "685) f666                           0.000681\n",
      "686) f182                           0.000673\n",
      "687) f243                           0.000665\n",
      "688) f162                           0.000665\n",
      "689) f94                            0.000647\n",
      "690) f299                           0.000632\n",
      "691) f232                           0.000625\n",
      "692) f172                           0.000618\n",
      "693) f617                           0.000612\n",
      "694) f309                           0.000597\n",
      "695) f307                           0.000596\n",
      "696) f129                           0.000592\n",
      "697) f242                           0.000588\n",
      "698) f83                            0.000585\n",
      "699) f325                           0.000582\n",
      "700) f104                           0.000579\n",
      "701) f62                            0.000576\n",
      "702) f48                            0.000572\n",
      "703) f317                           0.000565\n",
      "704) f301                           0.000556\n",
      "705) f152                           0.000536\n",
      "706) f389                           0.000529\n",
      "707) f681                           0.000521\n",
      "708) f42                            0.000516\n",
      "709) f625                           0.000515\n",
      "710) f713                           0.000514\n",
      "711) f58                            0.000509\n",
      "712) f644                           0.000508\n",
      "713) f52                            0.000502\n",
      "714) f722                           0.000499\n",
      "715) f633                           0.000494\n",
      "716) f615                           0.000492\n",
      "717) f293                           0.000492\n",
      "718) f74                            0.000491\n",
      "719) f73                            0.000482\n",
      "720) f36                            0.000480\n",
      "721) f770                           0.000478\n",
      "722) f604                           0.000399\n",
      "723) f616                           0.000371\n",
      "724) f291                           0.000361\n",
      "725) f595                           0.000307\n",
      "726) f776                           0.000158\n",
      "727) f723                           0.000102\n",
      "728) f777                           0.000038\n",
      "729) f724                           0.000027\n"
     ]
    }
   ],
   "source": [
    "X1 = X[X.columns.difference(['f391', 'f627'])]\n",
    "feat_labels = X1.columns\n",
    "forest = RandomForestClassifier(n_estimators=1000, random_state=0, n_jobs=-1)\n",
    "forest.fit(X1, y)\n",
    "importances = forest.feature_importances_\n",
    "indices = np.argsort(importances)[::-1]\n",
    "for f in range(X1.shape[1]):\n",
    "    print(\"%2d) %-*s %f\" % (f + 1, 30, feat_labels[indices[f]], importances[indices[f]]))"
   ]
  },
  {
   "cell_type": "markdown",
   "metadata": {},
   "source": [
    "There is a mistake in the PML textbook: The code always prints variable names from first to last. (V1, V2, V3, etc.) The print function should have feat_labels[indices[f]], not feat_labels[f]! Confirmed with documentation: <http://scikit-learn.org/stable/auto_examples/ensemble/plot_forest_importances.html>"
   ]
  },
  {
   "cell_type": "markdown",
   "metadata": {},
   "source": [
    "I will try to compute 'ROC AUC' and 'Accuracy' with different number of columns, always taken by ascending importance."
   ]
  },
  {
   "cell_type": "code",
   "execution_count": 104,
   "metadata": {
    "collapsed": false
   },
   "outputs": [
    {
     "name": "stdout",
     "output_type": "stream",
     "text": [
      "n= 1 Test Accuracy: 0.906 , ROC AUC: 0.567\n",
      "n= 51 Test Accuracy: 0.906 , ROC AUC: 0.683\n",
      "n= 101 Test Accuracy: 0.906 , ROC AUC: 0.694\n",
      "n= 151 Test Accuracy: 0.906 , ROC AUC: 0.697\n",
      "n= 201 Test Accuracy: 0.906 , ROC AUC: 0.700\n",
      "n= 251 Test Accuracy: 0.906 , ROC AUC: 0.704\n",
      "n= 301 Test Accuracy: 0.906 , ROC AUC: 0.708\n",
      "n= 351 Test Accuracy: 0.906 , ROC AUC: 0.708\n",
      "n= 401 Test Accuracy: 0.906 , ROC AUC: 0.708\n",
      "n= 451 Test Accuracy: 0.906 , ROC AUC: 0.708\n",
      "n= 501 Test Accuracy: 0.906 , ROC AUC: 0.714\n",
      "n= 551 Test Accuracy: 0.906 , ROC AUC: 0.714\n",
      "n= 601 Test Accuracy: 0.906 , ROC AUC: 0.714\n",
      "n= 651 Test Accuracy: 0.906 , ROC AUC: 0.715\n",
      "n= 701 Test Accuracy: 0.906 , ROC AUC: 0.714\n",
      "n= 751 Test Accuracy: 0.906 , ROC AUC: 0.715\n"
     ]
    }
   ],
   "source": [
    "for i in range(1,800,50):\n",
    "    X2 = X1[feat_labels[indices[0:i]]]\n",
    "    X2_train, X2_test = train_test_split(X2, test_size=0.3, random_state=0)\n",
    "    pipe_lr = Pipeline([('scl', StandardScaler()), ('clf', LogisticRegression(penalty='l2', C=0.001,random_state=1))])\n",
    "    pipe_lr.fit(X2_train, y_train)\n",
    "    print(\"n=\",i,'Test Accuracy: %.3f' % pipe_lr.score(X2_test, y_test),', ROC AUC: %.3f' % roc_auc_score(y_test,pipe_lr.predict_proba(X2_test)[:,1]) )"
   ]
  },
  {
   "cell_type": "markdown",
   "metadata": {},
   "source": [
    "*Note: The last value is for all columns of the dataset X, except for the two with very large vaules (i.e. n=729).*"
   ]
  },
  {
   "cell_type": "markdown",
   "metadata": {},
   "source": [
    "The test accuracy metric is really useless in this case, as all the values are the same, even when using just one column!"
   ]
  },
  {
   "cell_type": "markdown",
   "metadata": {},
   "source": [
    "### 2) Creation of new features based on correlation between columns"
   ]
  },
  {
   "cell_type": "code",
   "execution_count": 108,
   "metadata": {
    "collapsed": true
   },
   "outputs": [],
   "source": [
    "corr_matrix = X.corr().abs()\n",
    "os = (corr_matrix.where(np.triu(np.ones(corr_matrix.shape), k=1).astype(np.bool))\n",
    "                 .stack()\n",
    "                 .sort_values(ascending=False))\n",
    "\n",
    "os1 = pd.DataFrame({'index':os.index, 'corr':os.values})\n",
    "os1['index'].str[0]\n",
    "os1['index'].str[1]\n",
    "\n",
    "corrtab = pd.DataFrame({'col1':os1['index'].str[0], 'col2':os1['index'].str[1], 'corr':os1['corr']})\n",
    "corrtab2 = corrtab.drop_duplicates('col1')\n",
    "corrtab2 = corrtab2.drop_duplicates('col2')\n",
    "\n",
    "colremv=[]\n",
    "for i in range(0,corrtab2.shape[0]):\n",
    "    if (corrtab2.iloc[i,0] in corrtab2.iloc[:,1].values)==True:\n",
    "        colremv.append(list(corrtab2.iloc[:,1].values).index(corrtab2.iloc[i,0]))\n",
    "        \n",
    "corrtab2 = corrtab2.drop(corrtab2.index[[colremv]])\n",
    "corrtab2 = corrtab2[corrtab2['corr']>.99]\n",
    "feat_diff = pd.DataFrame({'index':data_train['id']})\n",
    "varnames = [\"F%d\" % x for x in range(1,1+corrtab2.shape[0])]\n",
    "\n",
    "for i in range (0,corrtab2.shape[0]):\n",
    "    feat_diff[varnames[i]] = X[corrtab2.iloc[i, 0]] - X[corrtab2.iloc[i, 1]]"
   ]
  },
  {
   "cell_type": "code",
   "execution_count": 109,
   "metadata": {
    "collapsed": true
   },
   "outputs": [],
   "source": [
    "remove = []\n",
    "cols = feat_diff.columns\n",
    "for i in range(len(cols) - 1):\n",
    "    v = feat_diff[cols[i]].values\n",
    "    for j in range(i + 1, len(cols)):\n",
    "        if np.array_equal(v, feat_diff[cols[j]].values):\n",
    "            remove.append(cols[j])\n",
    "        \n",
    "feat_diff = feat_diff.drop(remove, axis=1, inplace=False)"
   ]
  },
  {
   "cell_type": "code",
   "execution_count": 110,
   "metadata": {
    "collapsed": true
   },
   "outputs": [],
   "source": [
    "remove = []\n",
    "cols = feat_diff.columns\n",
    "for i in range(feat_diff.shape[1]):\n",
    "    if feat_diff.ix[:, i].nunique() == 1:\n",
    "        remove.append(cols[i])\n",
    "\n",
    "feat_diff = feat_diff.drop(remove, axis=1, inplace=False)"
   ]
  },
  {
   "cell_type": "code",
   "execution_count": 111,
   "metadata": {
    "collapsed": false
   },
   "outputs": [
    {
     "data": {
      "text/html": [
       "<div>\n",
       "<table border=\"1\" class=\"dataframe\">\n",
       "  <thead>\n",
       "    <tr style=\"text-align: right;\">\n",
       "      <th></th>\n",
       "      <th>index</th>\n",
       "      <th>F1</th>\n",
       "      <th>F14</th>\n",
       "      <th>F15</th>\n",
       "      <th>F16</th>\n",
       "      <th>F17</th>\n",
       "      <th>F18</th>\n",
       "      <th>F19</th>\n",
       "      <th>F20</th>\n",
       "      <th>F21</th>\n",
       "      <th>...</th>\n",
       "      <th>F86</th>\n",
       "      <th>F87</th>\n",
       "      <th>F88</th>\n",
       "      <th>F89</th>\n",
       "      <th>F90</th>\n",
       "      <th>F91</th>\n",
       "      <th>F92</th>\n",
       "      <th>F93</th>\n",
       "      <th>F94</th>\n",
       "      <th>F95</th>\n",
       "    </tr>\n",
       "  </thead>\n",
       "  <tbody>\n",
       "    <tr>\n",
       "      <th>0</th>\n",
       "      <td>1</td>\n",
       "      <td>1.0</td>\n",
       "      <td>1.0</td>\n",
       "      <td>0</td>\n",
       "      <td>-0.15</td>\n",
       "      <td>-0.54</td>\n",
       "      <td>-0.40</td>\n",
       "      <td>-0.14</td>\n",
       "      <td>1.000000</td>\n",
       "      <td>0.00</td>\n",
       "      <td>...</td>\n",
       "      <td>-1.54</td>\n",
       "      <td>-6.030000e+14</td>\n",
       "      <td>-1.86</td>\n",
       "      <td>-0.62</td>\n",
       "      <td>0.31915</td>\n",
       "      <td>0.0364</td>\n",
       "      <td>-1.211301e+09</td>\n",
       "      <td>0.000742</td>\n",
       "      <td>-9.428667e+11</td>\n",
       "      <td>-1599198768</td>\n",
       "    </tr>\n",
       "    <tr>\n",
       "      <th>1</th>\n",
       "      <td>2</td>\n",
       "      <td>1.0</td>\n",
       "      <td>1.0</td>\n",
       "      <td>0</td>\n",
       "      <td>-0.03</td>\n",
       "      <td>-0.28</td>\n",
       "      <td>-0.01</td>\n",
       "      <td>-0.27</td>\n",
       "      <td>1.000000</td>\n",
       "      <td>0.00</td>\n",
       "      <td>...</td>\n",
       "      <td>-1.22</td>\n",
       "      <td>7.980954e+06</td>\n",
       "      <td>-0.59</td>\n",
       "      <td>0.34</td>\n",
       "      <td>1.38413</td>\n",
       "      <td>0.0428</td>\n",
       "      <td>-1.846034e+07</td>\n",
       "      <td>-0.009317</td>\n",
       "      <td>-2.683260e+05</td>\n",
       "      <td>-1749244514</td>\n",
       "    </tr>\n",
       "    <tr>\n",
       "      <th>2</th>\n",
       "      <td>3</td>\n",
       "      <td>1.0</td>\n",
       "      <td>1.0</td>\n",
       "      <td>0</td>\n",
       "      <td>-0.01</td>\n",
       "      <td>0.00</td>\n",
       "      <td>0.00</td>\n",
       "      <td>0.00</td>\n",
       "      <td>1.000038</td>\n",
       "      <td>-0.24</td>\n",
       "      <td>...</td>\n",
       "      <td>-0.65</td>\n",
       "      <td>-5.292048e+10</td>\n",
       "      <td>-1.62</td>\n",
       "      <td>-0.08</td>\n",
       "      <td>-1.91489</td>\n",
       "      <td>-0.0128</td>\n",
       "      <td>-2.267672e+07</td>\n",
       "      <td>-0.022278</td>\n",
       "      <td>-8.154122e+08</td>\n",
       "      <td>-3693539486</td>\n",
       "    </tr>\n",
       "    <tr>\n",
       "      <th>3</th>\n",
       "      <td>4</td>\n",
       "      <td>1.0</td>\n",
       "      <td>1.0</td>\n",
       "      <td>0</td>\n",
       "      <td>-0.05</td>\n",
       "      <td>0.00</td>\n",
       "      <td>0.00</td>\n",
       "      <td>0.00</td>\n",
       "      <td>1.000000</td>\n",
       "      <td>-0.06</td>\n",
       "      <td>...</td>\n",
       "      <td>-1.09</td>\n",
       "      <td>-8.670000e+14</td>\n",
       "      <td>-2.72</td>\n",
       "      <td>-0.41</td>\n",
       "      <td>-0.65687</td>\n",
       "      <td>0.0052</td>\n",
       "      <td>-3.901739e+07</td>\n",
       "      <td>-0.006205</td>\n",
       "      <td>-1.260824e+12</td>\n",
       "      <td>-1558854784</td>\n",
       "    </tr>\n",
       "    <tr>\n",
       "      <th>4</th>\n",
       "      <td>5</td>\n",
       "      <td>1.0</td>\n",
       "      <td>1.0</td>\n",
       "      <td>0</td>\n",
       "      <td>-0.01</td>\n",
       "      <td>-0.64</td>\n",
       "      <td>-0.24</td>\n",
       "      <td>-0.40</td>\n",
       "      <td>1.000008</td>\n",
       "      <td>0.00</td>\n",
       "      <td>...</td>\n",
       "      <td>-0.59</td>\n",
       "      <td>1.088590e+05</td>\n",
       "      <td>-0.39</td>\n",
       "      <td>0.05</td>\n",
       "      <td>-2.16208</td>\n",
       "      <td>-0.0241</td>\n",
       "      <td>-2.293860e+05</td>\n",
       "      <td>0.012799</td>\n",
       "      <td>-1.030000e+02</td>\n",
       "      <td>-7075351784</td>\n",
       "    </tr>\n",
       "  </tbody>\n",
       "</table>\n",
       "<p>5 rows × 84 columns</p>\n",
       "</div>"
      ],
      "text/plain": [
       "<div>\n",
       "<table border=\"1\" class=\"dataframe\">\n",
       "  <thead>\n",
       "    <tr style=\"text-align: right;\">\n",
       "      <th></th>\n",
       "      <th>index</th>\n",
       "      <th>F1</th>\n",
       "      <th>F14</th>\n",
       "      <th>F15</th>\n",
       "      <th>F16</th>\n",
       "      <th>F17</th>\n",
       "      <th>F18</th>\n",
       "      <th>F19</th>\n",
       "      <th>F20</th>\n",
       "      <th>F21</th>\n",
       "      <th>...</th>\n",
       "      <th>F86</th>\n",
       "      <th>F87</th>\n",
       "      <th>F88</th>\n",
       "      <th>F89</th>\n",
       "      <th>F90</th>\n",
       "      <th>F91</th>\n",
       "      <th>F92</th>\n",
       "      <th>F93</th>\n",
       "      <th>F94</th>\n",
       "      <th>F95</th>\n",
       "    </tr>\n",
       "  </thead>\n",
       "  <tbody>\n",
       "    <tr>\n",
       "      <th>0</th>\n",
       "      <td>1</td>\n",
       "      <td>1.0</td>\n",
       "      <td>1.0</td>\n",
       "      <td>0</td>\n",
       "      <td>-0.15</td>\n",
       "      <td>-0.54</td>\n",
       "      <td>-0.40</td>\n",
       "      <td>-0.14</td>\n",
       "      <td>1.000000</td>\n",
       "      <td>0.00</td>\n",
       "      <td>...</td>\n",
       "      <td>-1.54</td>\n",
       "      <td>-6.030000e+14</td>\n",
       "      <td>-1.86</td>\n",
       "      <td>-0.62</td>\n",
       "      <td>0.31915</td>\n",
       "      <td>0.0364</td>\n",
       "      <td>-1.211301e+09</td>\n",
       "      <td>0.000742</td>\n",
       "      <td>-9.428667e+11</td>\n",
       "      <td>-1599198768</td>\n",
       "    </tr>\n",
       "    <tr>\n",
       "      <th>1</th>\n",
       "      <td>2</td>\n",
       "      <td>1.0</td>\n",
       "      <td>1.0</td>\n",
       "      <td>0</td>\n",
       "      <td>-0.03</td>\n",
       "      <td>-0.28</td>\n",
       "      <td>-0.01</td>\n",
       "      <td>-0.27</td>\n",
       "      <td>1.000000</td>\n",
       "      <td>0.00</td>\n",
       "      <td>...</td>\n",
       "      <td>-1.22</td>\n",
       "      <td>7.980954e+06</td>\n",
       "      <td>-0.59</td>\n",
       "      <td>0.34</td>\n",
       "      <td>1.38413</td>\n",
       "      <td>0.0428</td>\n",
       "      <td>-1.846034e+07</td>\n",
       "      <td>-0.009317</td>\n",
       "      <td>-2.683260e+05</td>\n",
       "      <td>-1749244514</td>\n",
       "    </tr>\n",
       "    <tr>\n",
       "      <th>2</th>\n",
       "      <td>3</td>\n",
       "      <td>1.0</td>\n",
       "      <td>1.0</td>\n",
       "      <td>0</td>\n",
       "      <td>-0.01</td>\n",
       "      <td>0.00</td>\n",
       "      <td>0.00</td>\n",
       "      <td>0.00</td>\n",
       "      <td>1.000038</td>\n",
       "      <td>-0.24</td>\n",
       "      <td>...</td>\n",
       "      <td>-0.65</td>\n",
       "      <td>-5.292048e+10</td>\n",
       "      <td>-1.62</td>\n",
       "      <td>-0.08</td>\n",
       "      <td>-1.91489</td>\n",
       "      <td>-0.0128</td>\n",
       "      <td>-2.267672e+07</td>\n",
       "      <td>-0.022278</td>\n",
       "      <td>-8.154122e+08</td>\n",
       "      <td>-3693539486</td>\n",
       "    </tr>\n",
       "    <tr>\n",
       "      <th>3</th>\n",
       "      <td>4</td>\n",
       "      <td>1.0</td>\n",
       "      <td>1.0</td>\n",
       "      <td>0</td>\n",
       "      <td>-0.05</td>\n",
       "      <td>0.00</td>\n",
       "      <td>0.00</td>\n",
       "      <td>0.00</td>\n",
       "      <td>1.000000</td>\n",
       "      <td>-0.06</td>\n",
       "      <td>...</td>\n",
       "      <td>-1.09</td>\n",
       "      <td>-8.670000e+14</td>\n",
       "      <td>-2.72</td>\n",
       "      <td>-0.41</td>\n",
       "      <td>-0.65687</td>\n",
       "      <td>0.0052</td>\n",
       "      <td>-3.901739e+07</td>\n",
       "      <td>-0.006205</td>\n",
       "      <td>-1.260824e+12</td>\n",
       "      <td>-1558854784</td>\n",
       "    </tr>\n",
       "    <tr>\n",
       "      <th>4</th>\n",
       "      <td>5</td>\n",
       "      <td>1.0</td>\n",
       "      <td>1.0</td>\n",
       "      <td>0</td>\n",
       "      <td>-0.01</td>\n",
       "      <td>-0.64</td>\n",
       "      <td>-0.24</td>\n",
       "      <td>-0.40</td>\n",
       "      <td>1.000008</td>\n",
       "      <td>0.00</td>\n",
       "      <td>...</td>\n",
       "      <td>-0.59</td>\n",
       "      <td>1.088590e+05</td>\n",
       "      <td>-0.39</td>\n",
       "      <td>0.05</td>\n",
       "      <td>-2.16208</td>\n",
       "      <td>-0.0241</td>\n",
       "      <td>-2.293860e+05</td>\n",
       "      <td>0.012799</td>\n",
       "      <td>-1.030000e+02</td>\n",
       "      <td>-7075351784</td>\n",
       "    </tr>\n",
       "  </tbody>\n",
       "</table>\n",
       "<p>5 rows × 84 columns</p>\n",
       "</div>"
      ]
     },
     "execution_count": 111,
     "metadata": {},
     "output_type": "execute_result"
    }
   ],
   "source": [
    "feat_diff.head()"
   ]
  },
  {
   "cell_type": "markdown",
   "metadata": {},
   "source": [
    "Here I computed the correlations between all columns and selected the pairs with the correlations > 0.99. Then I created new variables as a difference of these two highly correlated variables. Each variable that was used to compute a difference was only used once. I will try to use these 83 new features to see what results will I get. "
   ]
  },
  {
   "cell_type": "code",
   "execution_count": 112,
   "metadata": {
    "collapsed": true
   },
   "outputs": [],
   "source": [
    "X3 = feat_diff.ix[:,1:]\n",
    "X3_train, X3_test = train_test_split(X3, test_size=0.3, random_state=0)"
   ]
  },
  {
   "cell_type": "markdown",
   "metadata": {},
   "source": [
    "### Logistic Regression"
   ]
  },
  {
   "cell_type": "code",
   "execution_count": 113,
   "metadata": {
    "collapsed": false
   },
   "outputs": [
    {
     "name": "stdout",
     "output_type": "stream",
     "text": [
      "Test Accuracy: 0.906\n",
      "ROC AUC: 0.615\n"
     ]
    }
   ],
   "source": [
    "pipe_lr = Pipeline([('scl', StandardScaler()), ('clf', LogisticRegression(C=0.001, random_state=1))])\n",
    "pipe_lr.fit(X3_train, y_train)\n",
    "print('Test Accuracy: %.3f' % pipe_lr.score(X3_test, y_test))\n",
    "print('ROC AUC: %.3f' % roc_auc_score(y_test,pipe_lr.predict_proba(X3_test)[:,1]))"
   ]
  },
  {
   "cell_type": "markdown",
   "metadata": {},
   "source": [
    "The results are worse compared to the two other methods for data dimensionality reduction that I tried (PCA, RFC). However, I was still able to get quite reasonable results again with a significant reduction in computation time."
   ]
  }
 ],
 "metadata": {
  "kernelspec": {
   "display_name": "Python 3",
   "language": "python",
   "name": "python3"
  },
  "language_info": {
   "codemirror_mode": {
    "name": "ipython",
    "version": 3
   },
   "file_extension": ".py",
   "mimetype": "text/x-python",
   "name": "python",
   "nbconvert_exporter": "python",
   "pygments_lexer": "ipython3",
   "version": "3.6.1"
  }
 },
 "nbformat": 4,
 "nbformat_minor": 0
}
